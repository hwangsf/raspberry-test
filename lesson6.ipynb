{
 "cells": [
  {
   "cell_type": "code",
   "execution_count": 9,
   "metadata": {},
   "outputs": [
    {
     "name": "stdout",
     "output_type": "stream",
     "text": [
      "成功\n"
     ]
    }
   ],
   "source": [
    "import requests\n",
    "url = 'https://maker.ifttt.com/trigger/web-button-pressed/json/with/key/bd2VU7q5U4aFXOoMQ0vJyZ'\n",
    "\n",
    "res = requests.request('POST',url,\n",
    "                 headers={'Content-Type':'application/json'},\n",
    "                 params={'value1':'50','value2':'40','value3':'30'}\n",
    "                 )\n",
    "if res.status_code == 200:\n",
    "    print(\"成功\")"
   ]
  }
 ],
 "metadata": {
  "kernelspec": {
   "display_name": "Python 3",
   "language": "python",
   "name": "python3"
  },
  "language_info": {
   "codemirror_mode": {
    "name": "ipython",
    "version": 3
   },
   "file_extension": ".py",
   "mimetype": "text/x-python",
   "name": "python",
   "nbconvert_exporter": "python",
   "pygments_lexer": "ipython3",
   "version": "3.9.2"
  }
 },
 "nbformat": 4,
 "nbformat_minor": 2
}
