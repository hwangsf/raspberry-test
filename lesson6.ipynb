{
 "cells": [
  {
   "cell_type": "code",
   "execution_count": null,
   "metadata": {},
   "outputs": [],
   "source": [
    "import requests\n",
    "url = 'https://maker.ifttt.com/trigger/web-button-pressed/json/with/key/bd2VU7q5U4aFXOoMQ0vJyZ'\n",
    "\n",
    "requests.request('POST',url,headers={'Content-Type':'application/json'})"
   ]
  }
 ],
 "metadata": {
  "language_info": {
   "name": "python"
  }
 },
 "nbformat": 4,
 "nbformat_minor": 2
}
